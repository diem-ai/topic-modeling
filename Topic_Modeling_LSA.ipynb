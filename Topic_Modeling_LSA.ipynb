{
  "nbformat": 4,
  "nbformat_minor": 0,
  "metadata": {
    "colab": {
      "name": "Topic Modeling-LSA.ipynb",
      "version": "0.3.2",
      "provenance": [],
      "collapsed_sections": [],
      "include_colab_link": true
    },
    "language_info": {
      "codemirror_mode": {
        "name": "ipython",
        "version": 3
      },
      "file_extension": ".py",
      "mimetype": "text/x-python",
      "name": "python",
      "nbconvert_exporter": "python",
      "pygments_lexer": "ipython3",
      "version": "3.7.0"
    },
    "kernelspec": {
      "name": "python3",
      "display_name": "Python 3"
    },
    "accelerator": "GPU"
  },
  "cells": [
    {
      "cell_type": "markdown",
      "metadata": {
        "id": "view-in-github",
        "colab_type": "text"
      },
      "source": [
        "<a href=\"https://colab.research.google.com/github/diem-ai/topic-modeling/blob/master/Topic_Modeling_LSA.ipynb\" target=\"_parent\"><img src=\"https://colab.research.google.com/assets/colab-badge.svg\" alt=\"Open In Colab\"/></a>"
      ]
    },
    {
      "cell_type": "markdown",
      "metadata": {
        "id": "f28PG4o7x4SB",
        "colab_type": "text"
      },
      "source": [
        "#### Introduction\n",
        "\n",
        "<p>In another notebook Topic Modeling-LDA.ipynb, we examine the idea of latent spaces and how we\n",
        "could use Latent Dirichlet Allocation to create a topic space. LDA is not the only method to create latent spaces. In this notebook, we are going to use Non Negative Matrix to accomplish the same task. Non-negative Matrix Factorization is another mathematical technique to decompose a matrix into sub-matrices</p>\n",
        "\n",
        "#### Project tasks:\n",
        "- Cleaning the dataset & Lemmatization (done in notebook model_preparation.ipynb )\n",
        "- Creat a dictionay from processed data (done in notebook model_preparation.ipynb)\n",
        "- Create Corpus and LDA Model with bag of words\n",
        "- Create Coprpus and LDA with TF-IDF\n",
        "- Caculate the Perplexity and Topic Cohenrence between two models\n",
        "- Visualize topics with the help of pyLDAvis\n"
      ]
    },
    {
      "cell_type": "markdown",
      "metadata": {
        "id": "sC9PMZHNeVTx",
        "colab_type": "text"
      },
      "source": [
        "#### Google Colab Setup"
      ]
    },
    {
      "cell_type": "code",
      "metadata": {
        "id": "Olt7Xq5byPKU",
        "colab_type": "code",
        "outputId": "37b40e9a-d998-4d8f-939e-301cb325a044",
        "colab": {
          "base_uri": "https://localhost:8080/",
          "height": 34
        }
      },
      "source": [
        "from google.colab import drive\n",
        "# This will prompt for authorization.\n",
        "# authorization code: 4/OwErfUj6QceGXhIGx_RWv0MKclb9rilw8UsJnZqFbSez-QS8zQ399JU\n",
        "drive.mount('/content/drive')\n"
      ],
      "execution_count": 31,
      "outputs": [
        {
          "output_type": "stream",
          "text": [
            "Drive already mounted at /content/drive; to attempt to forcibly remount, call drive.mount(\"/content/drive\", force_remount=True).\n"
          ],
          "name": "stdout"
        }
      ]
    },
    {
      "cell_type": "code",
      "metadata": {
        "id": "q-X20vwCyxDa",
        "colab_type": "code",
        "outputId": "84aa8cd8-0c6d-4909-a2cf-438202c6db7d",
        "colab": {
          "base_uri": "https://localhost:8080/",
          "height": 213
        }
      },
      "source": [
        "!pip install PyDrive\n",
        "\n",
        "from pydrive.auth import GoogleAuth\n",
        "from pydrive.drive import GoogleDrive\n",
        "from google.colab import auth\n",
        "from oauth2client.client import GoogleCredentials\n",
        "\n",
        "auth.authenticate_user()\n",
        "gauth = GoogleAuth()\n",
        "gauth.credentials = GoogleCredentials.get_application_default()\n",
        "drive = GoogleDrive(gauth)\n",
        "\n"
      ],
      "execution_count": 32,
      "outputs": [
        {
          "output_type": "stream",
          "text": [
            "Requirement already satisfied: PyDrive in /usr/local/lib/python3.6/dist-packages (1.3.1)\n",
            "Requirement already satisfied: PyYAML>=3.0 in /usr/local/lib/python3.6/dist-packages (from PyDrive) (3.13)\n",
            "Requirement already satisfied: google-api-python-client>=1.2 in /usr/local/lib/python3.6/dist-packages (from PyDrive) (1.6.7)\n",
            "Requirement already satisfied: oauth2client>=4.0.0 in /usr/local/lib/python3.6/dist-packages (from PyDrive) (4.1.3)\n",
            "Requirement already satisfied: httplib2<1dev,>=0.9.2 in /usr/local/lib/python3.6/dist-packages (from google-api-python-client>=1.2->PyDrive) (0.11.3)\n",
            "Requirement already satisfied: uritemplate<4dev,>=3.0.0 in /usr/local/lib/python3.6/dist-packages (from google-api-python-client>=1.2->PyDrive) (3.0.0)\n",
            "Requirement already satisfied: six<2dev,>=1.6.1 in /usr/local/lib/python3.6/dist-packages (from google-api-python-client>=1.2->PyDrive) (1.12.0)\n",
            "Requirement already satisfied: pyasn1-modules>=0.0.5 in /usr/local/lib/python3.6/dist-packages (from oauth2client>=4.0.0->PyDrive) (0.2.5)\n",
            "Requirement already satisfied: rsa>=3.1.4 in /usr/local/lib/python3.6/dist-packages (from oauth2client>=4.0.0->PyDrive) (4.0)\n",
            "Requirement already satisfied: pyasn1>=0.1.7 in /usr/local/lib/python3.6/dist-packages (from oauth2client>=4.0.0->PyDrive) (0.4.5)\n"
          ],
          "name": "stdout"
        }
      ]
    },
    {
      "cell_type": "code",
      "metadata": {
        "id": "FeNsxd-MgJXf",
        "colab_type": "code",
        "colab": {}
      },
      "source": [
        "#import accessory_functions.py from Colab\n",
        "#https://drive.google.com/open?id=1S7URZIBq4zMh5QWv0qXPHv4ixhgHWN_y\n",
        "\n",
        "my_module = drive.CreateFile({'id':'1S7URZIBq4zMh5QWv0qXPHv4ixhgHWN_y'})\n",
        "my_module.GetContentFile('accessory_functions.py')"
      ],
      "execution_count": 0,
      "outputs": []
    },
    {
      "cell_type": "code",
      "metadata": {
        "id": "YXVkDzd8x4SG",
        "colab_type": "code",
        "colab": {}
      },
      "source": [
        "import numpy as np\n",
        "import string\n",
        "import pandas as pd\n",
        "import unidecode\n",
        "\n",
        "import gensim\n",
        "import gensim.corpora as corpora\n",
        "from gensim.utils import simple_preprocess\n",
        "import matplotlib.pyplot as plt\n",
        "\n",
        "from accessory_functions import read_pickle_file\n",
        "\n",
        "\n",
        "%matplotlib inline\n",
        "# Make all my plots 538 Style\n",
        "plt.style.use('fivethirtyeight')\n",
        "\n",
        "import warnings\n",
        "warnings.simplefilter('ignore')\n"
      ],
      "execution_count": 0,
      "outputs": []
    },
    {
      "cell_type": "markdown",
      "metadata": {
        "id": "dJhgmYj30bym",
        "colab_type": "text"
      },
      "source": [
        "<p>Data Path & Model parameters</p>"
      ]
    },
    {
      "cell_type": "code",
      "metadata": {
        "id": "i8qQjhJd0ZdS",
        "colab_type": "code",
        "colab": {}
      },
      "source": [
        "datapath = '/content/drive/My Drive/data/'\n",
        "n_topics = 50\n",
        "iterations = 50"
      ],
      "execution_count": 0,
      "outputs": []
    },
    {
      "cell_type": "markdown",
      "metadata": {
        "id": "lgx_Dhqm0NaK",
        "colab_type": "text"
      },
      "source": [
        "<p> Loading data</p>"
      ]
    },
    {
      "cell_type": "code",
      "metadata": {
        "id": "JQSpF8_J0SLr",
        "colab_type": "code",
        "colab": {}
      },
      "source": [
        "processed_docs = read_pickle_file(datapath + 'processed_docs.pkl')\n",
        "bow = read_pickle_file(datapath + 'bow.pkl')\n",
        "tfidf = read_pickle_file(datapath + 'tfidf.pkl')\n",
        "dictionary = read_pickle_file(datapath + 'dictionary.pkl')"
      ],
      "execution_count": 0,
      "outputs": []
    },
    {
      "cell_type": "code",
      "metadata": {
        "id": "4fsS1J-X095M",
        "colab_type": "code",
        "outputId": "d0cc9e14-1e69-4c09-b60e-86cca538dfe8",
        "colab": {
          "base_uri": "https://localhost:8080/",
          "height": 54
        }
      },
      "source": [
        "print(processed_docs[1])\n",
        "\n"
      ],
      "execution_count": 37,
      "outputs": [
        {
          "output_type": "stream",
          "text": [
            "['trade', 'flow', 'traditional', 'economic', 'measure', 'reveal', 'true', 'cost', 'tariff', 'washington', 'friday', 'hike', 'duty', 'billion', 'chinese', 'good', 'side', 'intimate', 'survive', 'blow', 'may', 'slightly', 'dent', 'gdp', 'shift', 'supply', 'chain', 'though', 'show', 'extent', 'long', 'term', 'loss']\n"
          ],
          "name": "stdout"
        }
      ]
    },
    {
      "cell_type": "code",
      "metadata": {
        "id": "aV0eGmD71s7f",
        "colab_type": "code",
        "outputId": "f0c084fe-d2b5-4d41-c97d-4ae851393094",
        "colab": {
          "base_uri": "https://localhost:8080/",
          "height": 634
        }
      },
      "source": [
        "doc = bow[1]\n",
        "\n",
        "print(doc)\n",
        "\n",
        "[(dictionary[id], count) for id, count in doc]"
      ],
      "execution_count": 38,
      "outputs": [
        {
          "output_type": "stream",
          "text": [
            "[(4, 1), (10, 1), (33, 1), (38, 1), (39, 1), (40, 1), (41, 1), (42, 1), (43, 1), (44, 1), (45, 1), (46, 1), (47, 1), (48, 1), (49, 1), (50, 1), (51, 1), (52, 1), (53, 1), (54, 1), (55, 1), (56, 1), (57, 1), (58, 1), (59, 1), (60, 1), (61, 1), (62, 1), (63, 1), (64, 1), (65, 1), (66, 1), (67, 1)]\n"
          ],
          "name": "stdout"
        },
        {
          "output_type": "execute_result",
          "data": {
            "text/plain": [
              "[('billion', 1),\n",
              " ('friday', 1),\n",
              " ('trade', 1),\n",
              " ('blow', 1),\n",
              " ('chain', 1),\n",
              " ('chinese', 1),\n",
              " ('cost', 1),\n",
              " ('dent', 1),\n",
              " ('duty', 1),\n",
              " ('economic', 1),\n",
              " ('extent', 1),\n",
              " ('flow', 1),\n",
              " ('gdp', 1),\n",
              " ('good', 1),\n",
              " ('hike', 1),\n",
              " ('intimate', 1),\n",
              " ('long', 1),\n",
              " ('loss', 1),\n",
              " ('may', 1),\n",
              " ('measure', 1),\n",
              " ('reveal', 1),\n",
              " ('shift', 1),\n",
              " ('show', 1),\n",
              " ('side', 1),\n",
              " ('slightly', 1),\n",
              " ('supply', 1),\n",
              " ('survive', 1),\n",
              " ('tariff', 1),\n",
              " ('term', 1),\n",
              " ('though', 1),\n",
              " ('traditional', 1),\n",
              " ('true', 1),\n",
              " ('washington', 1)]"
            ]
          },
          "metadata": {
            "tags": []
          },
          "execution_count": 38
        }
      ]
    },
    {
      "cell_type": "code",
      "metadata": {
        "id": "PUKbys3g17gG",
        "colab_type": "code",
        "outputId": "a741867b-bc84-47ff-e5b2-14b0912b3718",
        "colab": {
          "base_uri": "https://localhost:8080/",
          "height": 634
        }
      },
      "source": [
        "doc = tfidf[1]\n",
        "\n",
        "print(doc)\n",
        "\n",
        "[(dictionary[id], freq) for id, freq in doc]"
      ],
      "execution_count": 39,
      "outputs": [
        {
          "output_type": "stream",
          "text": [
            "[(4, 0.05775843375562911), (10, 0.12310661992926017), (33, 0.10439212162929286), (38, 0.1961303786255056), (39, 0.17310433437273764), (40, 0.10148900465133513), (41, 0.1199009983425769), (42, 0.23725627027918395), (43, 0.21614153934185534), (44, 0.1071217734433688), (45, 0.28633219743654287), (46, 0.1961303786255056), (47, 0.1961303786255056), (48, 0.1091949636509986), (49, 0.1923966831387611), (50, 0.28633219743654287), (51, 0.11962217757715381), (52, 0.1524456522665324), (53, 0.06964385147961394), (54, 0.17420790459371643), (55, 0.19813974994500413), (56, 0.1765129312952131), (57, 0.12161692894792232), (58, 0.1829493640280444), (59, 0.21010281715361415), (60, 0.18157469132600734), (61, 0.21010281715361415), (62, 0.16023546606560787), (63, 0.13550592942070178), (64, 0.11798968502713748), (65, 0.19813974994500413), (66, 0.20487183805983358), (67, 0.14595088124716785)]\n"
          ],
          "name": "stdout"
        },
        {
          "output_type": "execute_result",
          "data": {
            "text/plain": [
              "[('billion', 0.05775843375562911),\n",
              " ('friday', 0.12310661992926017),\n",
              " ('trade', 0.10439212162929286),\n",
              " ('blow', 0.1961303786255056),\n",
              " ('chain', 0.17310433437273764),\n",
              " ('chinese', 0.10148900465133513),\n",
              " ('cost', 0.1199009983425769),\n",
              " ('dent', 0.23725627027918395),\n",
              " ('duty', 0.21614153934185534),\n",
              " ('economic', 0.1071217734433688),\n",
              " ('extent', 0.28633219743654287),\n",
              " ('flow', 0.1961303786255056),\n",
              " ('gdp', 0.1961303786255056),\n",
              " ('good', 0.1091949636509986),\n",
              " ('hike', 0.1923966831387611),\n",
              " ('intimate', 0.28633219743654287),\n",
              " ('long', 0.11962217757715381),\n",
              " ('loss', 0.1524456522665324),\n",
              " ('may', 0.06964385147961394),\n",
              " ('measure', 0.17420790459371643),\n",
              " ('reveal', 0.19813974994500413),\n",
              " ('shift', 0.1765129312952131),\n",
              " ('show', 0.12161692894792232),\n",
              " ('side', 0.1829493640280444),\n",
              " ('slightly', 0.21010281715361415),\n",
              " ('supply', 0.18157469132600734),\n",
              " ('survive', 0.21010281715361415),\n",
              " ('tariff', 0.16023546606560787),\n",
              " ('term', 0.13550592942070178),\n",
              " ('though', 0.11798968502713748),\n",
              " ('traditional', 0.19813974994500413),\n",
              " ('true', 0.20487183805983358),\n",
              " ('washington', 0.14595088124716785)]"
            ]
          },
          "metadata": {
            "tags": []
          },
          "execution_count": 39
        }
      ]
    },
    {
      "cell_type": "markdown",
      "metadata": {
        "id": "JjI_ypGK2oXU",
        "colab_type": "text"
      },
      "source": [
        "<p>LSA with Bag-of-Word</p>"
      ]
    },
    {
      "cell_type": "code",
      "metadata": {
        "id": "wuXDkkcf21Pp",
        "colab_type": "code",
        "colab": {}
      },
      "source": [
        "lsi_bow = gensim.models.LsiModel(bow      \n",
        "                                 , num_topics=n_topics\n",
        "                                       , id2word=dictionary)"
      ],
      "execution_count": 0,
      "outputs": []
    },
    {
      "cell_type": "markdown",
      "metadata": {
        "id": "FwyCgiRS3a45",
        "colab_type": "text"
      },
      "source": [
        "<p>Print top 10 popular topics</p>"
      ]
    },
    {
      "cell_type": "code",
      "metadata": {
        "id": "jfr-0QJd3OSq",
        "colab_type": "code",
        "outputId": "7962d1d7-9751-4bce-8ad2-617fa005f92c",
        "colab": {
          "base_uri": "https://localhost:8080/",
          "height": 213
        }
      },
      "source": [
        "topics = lsi_bow.print_topics(num_topics=5, num_words=10)\n",
        "\n",
        "for idx, topic in topics:\n",
        "  print(\"topic: {}\\n {}\".format(idx, topic))\n",
        "  \n",
        "#[print(\"topic: {}\\n {}\".format(idx, topic)) for idx, topic in topics]"
      ],
      "execution_count": 41,
      "outputs": [
        {
          "output_type": "stream",
          "text": [
            "topic: 0\n",
            " 0.297*\"billion\" + 0.213*\"president\" + 0.211*\"trump\" + 0.187*\"may\" + 0.174*\"year\" + 0.163*\"donald\" + 0.156*\"new\" + 0.155*\"could\" + 0.155*\"company\" + 0.146*\"bank\"\n",
            "topic: 1\n",
            " -0.516*\"trump\" + -0.478*\"president\" + -0.408*\"donald\" + 0.280*\"billion\" + -0.149*\"say\" + 0.123*\"company\" + 0.102*\"year\" + 0.099*\"investor\" + -0.096*\"house\" + 0.082*\"bank\"\n",
            "topic: 2\n",
            " 0.516*\"billion\" + -0.401*\"bank\" + -0.264*\"may\" + -0.211*\"european\" + 0.173*\"company\" + -0.144*\"union\" + -0.144*\"britain\" + -0.142*\"minister\" + 0.135*\"trump\" + -0.122*\"prime\"\n",
            "topic: 3\n",
            " 0.539*\"bank\" + -0.435*\"may\" + 0.190*\"year\" + -0.171*\"minister\" + 0.166*\"chief\" + 0.155*\"executive\" + -0.152*\"prime\" + -0.151*\"union\" + -0.150*\"european\" + -0.143*\"britain\"\n",
            "topic: 4\n",
            " 0.516*\"china\" + 0.250*\"market\" + -0.229*\"chief\" + -0.216*\"executive\" + 0.210*\"could\" + -0.209*\"billion\" + 0.180*\"chinese\" + 0.165*\"beijing\" + -0.164*\"may\" + 0.162*\"state\"\n"
          ],
          "name": "stdout"
        }
      ]
    },
    {
      "cell_type": "markdown",
      "metadata": {
        "id": "btvJgf_0x4Up",
        "colab_type": "text"
      },
      "source": [
        "#### LSA model with TF-IDF\n"
      ]
    },
    {
      "cell_type": "code",
      "metadata": {
        "id": "OFQqDYq3ySFC",
        "colab_type": "code",
        "colab": {}
      },
      "source": [
        "lsi_tfidf = gensim.models.LsiModel(tfidf\n",
        "                                       , num_topics=n_topics\n",
        "                                       , id2word=dictionary)"
      ],
      "execution_count": 0,
      "outputs": []
    },
    {
      "cell_type": "markdown",
      "metadata": {
        "id": "lgPWLBarx4VM",
        "colab_type": "text"
      },
      "source": [
        "<p>Print top 5 topics</p>"
      ]
    },
    {
      "cell_type": "code",
      "metadata": {
        "id": "7y6wB93Xx4VN",
        "colab_type": "code",
        "outputId": "521ec2d2-3c9b-40d3-bdcd-8ace8d147d3a",
        "colab": {
          "base_uri": "https://localhost:8080/",
          "height": 300
        }
      },
      "source": [
        "#pprint(lda_model.print_topics())\n",
        "for idx, topic in lsi_tfidf.print_topics(num_topics=5, num_words=10):\n",
        "    print('\\nTopic: {}\\nWords: {}'.format(idx, topic))\n"
      ],
      "execution_count": 43,
      "outputs": [
        {
          "output_type": "stream",
          "text": [
            "\n",
            "Topic: 0\n",
            "Words: 0.148*\"trump\" + 0.143*\"president\" + 0.126*\"donald\" + 0.124*\"billion\" + 0.112*\"may\" + 0.111*\"bank\" + 0.108*\"say\" + 0.106*\"could\" + 0.102*\"year\" + 0.102*\"china\"\n",
            "\n",
            "Topic: 1\n",
            "Words: 0.347*\"trump\" + 0.311*\"donald\" + 0.308*\"president\" + 0.173*\"say\" + 0.149*\"verified\" + 0.145*\"twitter\" + 0.143*\"house\" + 0.141*\"statement\" + 0.121*\"post\" + 0.120*\"account\"\n",
            "\n",
            "Topic: 2\n",
            "Words: -0.377*\"verified\" + -0.342*\"twitter\" + -0.339*\"statement\" + -0.318*\"account\" + -0.295*\"post\" + -0.263*\"follow\" + -0.181*\"personal\" + 0.110*\"election\" + 0.088*\"minister\" + 0.081*\"house\"\n",
            "\n",
            "Topic: 3\n",
            "Words: -0.234*\"european\" + -0.219*\"minister\" + -0.217*\"union\" + -0.211*\"britain\" + -0.210*\"brexit\" + -0.198*\"prime\" + -0.191*\"theresa\" + -0.152*\"verified\" + -0.140*\"may\" + -0.135*\"statement\"\n",
            "\n",
            "Topic: 4\n",
            "Words: -0.246*\"china\" + 0.214*\"fox\" + 0.186*\"murdoch\" + -0.157*\"trade\" + 0.153*\"disney\" + 0.149*\"twenty\" + 0.144*\"sky\" + 0.143*\"century\" + 0.137*\"rupert\" + -0.135*\"chinese\"\n"
          ],
          "name": "stdout"
        }
      ]
    },
    {
      "cell_type": "markdown",
      "metadata": {
        "id": "ZyVpFYFlziV8",
        "colab_type": "text"
      },
      "source": [
        "<p>Test model with unseen data</p>"
      ]
    },
    {
      "cell_type": "code",
      "metadata": {
        "id": "u-FzWk9jzno5",
        "colab_type": "code",
        "outputId": "f4c408e7-5025-4ef3-d4f0-e92531f6e14b",
        "colab": {
          "base_uri": "https://localhost:8080/",
          "height": 193
        }
      },
      "source": [
        "def sortbyvalue(item):\n",
        "  \"\"\"\n",
        "  @item is a tuple (key,val)\n",
        "  \"\"\"\n",
        "  return item[1]\n",
        "\n",
        "\n",
        "\n",
        "text = 'Uber Technologies lackluster stock-market debut is a warning for other tech unicorns'\n",
        "\n",
        "unseen_doc = dictionary.doc2bow(text.split())\n",
        "\n",
        "vector = lsi_bow[unseen_doc]\n",
        "# sort vector descending by score\n",
        "vector.sort(key=sortbyvalue, reverse=True)\n",
        "\n",
        "#print top 5 topics\n",
        "for idx, score in vector[:5]:\n",
        "  print(\"topic:{}  score:{} \\n {}\".format(idx, score, lsi_bow.print_topic(topicno=idx, topn=5)))\n",
        "\n"
      ],
      "execution_count": 44,
      "outputs": [
        {
          "output_type": "stream",
          "text": [
            "topic:7  score:0.08736280557799948 \n",
            " -0.402*\"year\" + 0.385*\"market\" + -0.287*\"state\" + -0.265*\"china\" + 0.260*\"investor\"\n",
            "topic:23  score:0.07350410000420445 \n",
            " 0.264*\"would\" + -0.210*\"market\" + 0.187*\"trade\" + 0.185*\"economic\" + 0.168*\"percent\"\n",
            "topic:4  score:0.06564559022171641 \n",
            " 0.516*\"china\" + 0.250*\"market\" + -0.229*\"chief\" + -0.216*\"executive\" + 0.210*\"could\"\n",
            "topic:21  score:0.05115576717249284 \n",
            " 0.430*\"would\" + -0.261*\"percent\" + 0.253*\"investor\" + 0.235*\"like\" + -0.167*\"price\"\n",
            "topic:2  score:0.04746070033605729 \n",
            " 0.516*\"billion\" + -0.401*\"bank\" + -0.264*\"may\" + -0.211*\"european\" + 0.173*\"company\"\n"
          ],
          "name": "stdout"
        }
      ]
    },
    {
      "cell_type": "code",
      "metadata": {
        "id": "rfjSPpiY299P",
        "colab_type": "code",
        "outputId": "29dd088e-838c-47b4-9576-38c0909071f5",
        "colab": {
          "base_uri": "https://localhost:8080/",
          "height": 193
        }
      },
      "source": [
        "text = 'Uber Technologies lackluster stock-market debut is a warning for other tech unicorns'\n",
        "\n",
        "unseen_doc = dictionary.doc2bow(text.split())\n",
        "\n",
        "vector = lsi_tfidf[unseen_doc]\n",
        "\n",
        "vector.sort(key = sortbyvalue)\n",
        "\n",
        "for idx, score in vector[:5]:\n",
        "  print(\"topic:{}  score:{} \\n {}\".format(idx, score, lsi_tfidf.print_topic(topicno=idx, topn=5)))\n"
      ],
      "execution_count": 45,
      "outputs": [
        {
          "output_type": "stream",
          "text": [
            "topic:49  score:-0.10628477110527208 \n",
            " 0.142*\"tuesday\" + 0.137*\"would\" + -0.136*\"group\" + -0.129*\"financial\" + -0.122*\"democratic\"\n",
            "topic:36  score:-0.08223417129635605 \n",
            " -0.142*\"financial\" + 0.133*\"white\" + -0.129*\"crisis\" + 0.128*\"market\" + -0.125*\"deal\"\n",
            "topic:29  score:-0.07213120942662607 \n",
            " 0.171*\"financial\" + 0.143*\"government\" + -0.136*\"tax\" + -0.123*\"presidential\" + 0.108*\"year\"\n",
            "topic:34  score:-0.06332052801079278 \n",
            " 0.139*\"financial\" + 0.131*\"state\" + 0.131*\"make\" + -0.131*\"federal\" + 0.129*\"tax\"\n",
            "topic:1  score:-0.06103160388384444 \n",
            " 0.347*\"trump\" + 0.311*\"donald\" + 0.308*\"president\" + 0.173*\"say\" + 0.149*\"verified\"\n"
          ],
          "name": "stdout"
        }
      ]
    },
    {
      "cell_type": "markdown",
      "metadata": {
        "id": "JYKtDBlS3ULv",
        "colab_type": "text"
      },
      "source": [
        "<p>With the same text, both models give the different results</p>"
      ]
    }
  ]
}